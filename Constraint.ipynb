{
 "cells": [
  {
   "cell_type": "markdown",
   "metadata": {},
   "source": [
    "# Artificial Intelligence"
   ]
  },
  {
   "cell_type": "markdown",
   "metadata": {},
   "source": [
    "###  1.\tUsing any CSP (Constraint Satisfaction Problem) framework (using variables, value domains, and constraints), discover if the above problems can be solved and if so detail who would be in hired."
   ]
  },
  {
   "cell_type": "markdown",
   "metadata": {},
   "source": [
    "\n",
    "\n",
    "\n",
    "Ciara is looking for employees for her new company, which develops and provides AI based logistic software for retailers. Ciara has determined that she needs:\n",
    "\n",
    "2 Python Programmers, 2 AI Engineers, 1 Web Designer, 1 Database Admin, and 1 Systems Engineer.\n",
    "Assume that if a person has two abilities, he or she can take on two roles in the company.\n",
    "\n",
    "So Ciara narrowed down her selections to the following people:\n",
    "\n",
    "- __Name & Abilities__\n",
    "- Peter : Python and AI\n",
    "- Juan : Web and AI\n",
    "- Jim : AI and Systems\n",
    "- Jane : Python and Database\n",
    "- Mary : Web and Systems\n",
    "- Bruce : Systems and Python\n",
    "- Anita : Web and AI\n",
    "\n",
    "### Scenario 1:\n",
    "\n",
    "Suppose Ciara knows Python, and only has funds to hire __three__ more people.\n"
   ]
  },
  {
   "cell_type": "markdown",
   "metadata": {},
   "source": [
    "__Variables__: The variables are the people (Peter, Juan, Jim, Jane, Mary, Bruce, Anita). Each person represents a variable that needs to be assigned a role based on their abilities.\n",
    "\n",
    "__Value Domains__: The domain of each variable (person) is their set of abilities. For example, the domain for Peter is {\"Python\", \"AI\"}.\n",
    "\n",
    "__Constraints__:\n",
    "- Each person can be assigned only to roles matching their abilities.\n",
    "- The total number of people hired should be three (excluding Ciara).\n",
    "- The required roles in the company (_'constraints'_) must all be filled. This includes 1 Python Programmer, 2 AI Engineers, 1 Web Designer, 1 Database Admin, and 1 Systems Engineer.\n"
   ]
  },
  {
   "cell_type": "markdown",
   "metadata": {},
   "source": [
    "### Scenario 2:\n",
    "\n",
    "Suppose Ciara and Juan become partners, with the additional funds they can now employ four more people but must employ another AI Engineer, so they need 2 Python Programmers, 3 AI Engineers, 1 Web Designer, 1 Database Admin, and 1 Systems Engineer.\n",
    "\n",
    "Variables and Value Domains remains the same as scenarion 1.\n",
    "\n",
    "Constraints:\n",
    "\n",
    "- Juan becomes Ciara's partner and will be moved to pre-selected list.\n",
    "- The total number of people hired must be up to four (excluding Ciara and Juan)\n",
    "- The required roles in the company `constraint` must all be filled. This includes 2 Python Programmer, 3 AI Engineers, 1 Web Designer, 1 Database Admin, and 1 Systems Engineer.\n"
   ]
  },
  {
   "cell_type": "markdown",
   "metadata": {},
   "source": [
    "### Code Explanation\n",
    "\n",
    "- **`constraint`**: \n",
    "  - _Description_: A dictionary representing the required skills or roles for the project. Each skill has a corresponding number indicating how many people with that skill are needed.\n",
    "  - _Adjustments_: The required count for each skill is adjusted to account for the skills of pre-selected individuals like Ciara and Juan.\n",
    "\n",
    "- **`pre_selected`**:\n",
    "  - _Description_: A set of individuals who are pre-selected for the team due to their specific skills or other constraints. For instance, Ciara is always selected for her Python skill.\n",
    "  - _Operation_: The script adjusts the `variables_domain` and `constraint` based on the skills of these pre-selected individuals.\n",
    "\n",
    "- **Removing pre-selected individuals**:\n",
    "  - _Process_: The script iteratively removes pre-selected individuals from the `variables_domain` and adjusts the `constraint_2` accordingly to reflect their contribution to the required skills.\n",
    "\n",
    "- **`meets_requirements` function**: \n",
    "  - _Description_: A function that checks if a particular combination of people meets the required skills. It tallies the skills of the combination and compares this against the `constraint` to determine if it's a valid team setup.\n",
    "  - _Process_: \n",
    "    1. Initialize a count for each required skill.\n",
    "    2. Tally the skills for each individual in the combination.\n",
    "    3. Compare the tally against the requirements in `constraint`.\n",
    "\n",
    "- **Generating Possible Teams**:\n",
    "  - _Description_: The script generates all combinations of 1 to 4 people from the remaining candidates (not including pre-selected ones) and checks each combination to see if it meets the required skills.\n",
    "  - _Storage_: Valid combinations that meet all requirements are stored in `possible_teams`, each including the pre-selected individuals.\n",
    "\n",
    "- **`possible_teams`**:\n",
    "  - _Description_: A list that stores each team combination that successfully covers all the required skills. Each team includes the pre-selected individuals along with the combination of other candidates that, together, fulfill all role requirements.\n"
   ]
  },
  {
   "cell_type": "code",
   "execution_count": 1,
   "metadata": {},
   "outputs": [
    {
     "data": {
      "text/plain": [
       "[{'Jane', 'Jim', 'Juan', 'Peter'}, {'Anita', 'Jane', 'Jim', 'Peter'}]"
      ]
     },
     "execution_count": 1,
     "metadata": {},
     "output_type": "execute_result"
    }
   ],
   "source": [
    "from itertools import combinations\n",
    "from collections import Counter\n",
    "import pandas as pd\n",
    "import matplotlib.pyplot as plt\n",
    "import seaborn as sns\n",
    "\n",
    "# Adjusted variables and domain of the problem where variables = people, and domain = roles;\n",
    "variables_domain = {\n",
    "    \"Peter\": {\"Python\", \"AI\"},\n",
    "    \"Juan\": {\"Web\", \"AI\"}, \n",
    "    \"Jim\": {\"AI\", \"Systems\"},\n",
    "    \"Jane\": {\"Python\", \"Database\"},\n",
    "    \"Mary\": {\"Web\", \"Systems\"},\n",
    "    \"Bruce\": {\"Systems\", \"Python\"},\n",
    "    \"Anita\": {\"Web\", \"AI\"}, \n",
    "    \"Ciara\": {\"Python\"}  \n",
    "}\n",
    "\n",
    "# Define the required skills\n",
    "constraint = Counter({\"Python\": 2, \"AI\": 3, \"Web\": 1, \"Database\": 1, \"Systems\": 1}) # For Scenario 2 add one AI. \n",
    "\n",
    "# Pre-selected individuals\n",
    "pre_selected = set() #Used for GUI\n",
    "#pre_selected = {\"Ciara\", \"Juan\"} # For Scenarion 2\n",
    "#pre_selected = {\"Ciara\"} # For Scenarion 1\n",
    "\n",
    "# Remove pre-selected individuals from domain\n",
    "for person in pre_selected:\n",
    "    # Reduce the count of required skills based on pre-selected individuals\n",
    "    for skill in variables_domain[person]:\n",
    "        if skill in constraint:\n",
    "            constraint[skill] -= 1\n",
    "    del variables_domain[person]\n",
    "\n",
    "# Function to check if a combination of people meets the required skills\n",
    "def meets_requirements(people, constraint, domains):\n",
    "    skills_count = {skill: 0 for skill in constraint}\n",
    "    for person in people:\n",
    "        for skill in domains[person]:\n",
    "            if skill in skills_count:\n",
    "                skills_count[skill] += 1\n",
    "    # Check if all required skills are met or exceeded\n",
    "    return all(skills_count[skill] >= constraint[skill] for skill in constraint)\n",
    "\n",
    "# Generate all possible combinations of 4 or fewer people from the remaining candidates\n",
    "possible_teams = []\n",
    "for r in range(1, 5): # For scenario 2\n",
    "#for r in range(1, 4):  # For scenario 1\n",
    "    for team in combinations(variables_domain.keys(), r):\n",
    "        if meets_requirements(team, constraint, variables_domain):\n",
    "            possible_teams.append(pre_selected.union(team))  # Add pre-selected individuals to the team\n",
    "\n",
    "possible_teams"
   ]
  },
  {
   "cell_type": "markdown",
   "metadata": {},
   "source": [
    "### 2.\tDiscuss in detail how using Constraint Satisfaction finds an answer or finds no solution to the problems in Tasks for Artificial Intelligence part 1. How does this differ from standard algorithmic solutions? "
   ]
  },
  {
   "attachments": {
    "image.png": {
     "image/png": "[encoded data removed]"
    }
   },
   "cell_type": "markdown",
   "metadata": {},
   "source": [
    "### Constraint Satisfaction Problem (CSP)\n",
    "\n",
    "A Constraint Satisfaction Problem (CSP) involves finding a solution that satisfies a number of constraints or conditions. It is widely used in fields like artificial intelligence for scheduling, assigning, and planning problems. CSPs typically involve variables, domains for each variable, and constraints that describe allowable combinations of values. The goal is to assign values to all variables in a way that doesn't violate any constraints (Russell & Norvig, 2010). This framework is particularly effective in scenarios like employee scheduling, where multiple conditions must be met simultaneously.\n",
    "\n",
    "\n",
    "- _A Constraint Satisfaction Problem (CSP) is typically defined by three fundamental components:_ (Wikipedia Contributors, 2019)\n",
    "\n",
    "![image.png](attachment:image.png)\n",
    "\n",
    " A more efficient method uses the backtracking paradigm (BT) that is the most common algorithm for performing\n",
    "systematic search. Backtracking incrementally attempts to extend a partial solution toward a\n",
    "complete solution, by repeatedly choosing a value for another variable. \n",
    "\n",
    "The backtracking paradigm carefully builds a solution to a problem by testing using many options and discarding those that don't work. It attempts to gradually expand the partial solution that it begins with. It selects a variable and gives it a consistent value at each step, while at the same time ensuring that the current sequence of assignments doesn't violate any constraints. If a constraint is violated, the algorithm doesn't proceed further down that path and instead goes back (or \"backtracks\") to the previous step to try a different value or path. (Barták, Morris, & Venable, 2014)\n",
    "\n",
    "A common issue with most backtracking-based systematic search algorithms is that there are a lot of \"backtracks\" to other options, which reduces system efficiency. There are specific situations where it is feasible to fully remove the necessity for going back. Additionally, there are methods that select a unique variable ordering to minimize the amount of backtracking.\n",
    "\n",
    "\n",
    "\n",
    "\n",
    "1. **Variables (X):**\n",
    "   - Each potencial person: Peter, Juan, Jim, Jane, Mary, Bruce, Anita and Ciara).\n",
    "   - Each variable can take on values from a domain.\n",
    "\n",
    "2. **Domains (D):**\n",
    "   - Each domain is a set of possible values that its corresponding variable can assume. In this case, the abilities each person (Variables) has. \n",
    "   - Domains can be finite or infinite, depending on the specific CSP.\n",
    "\n",
    "3. **Constraints (C):**\n",
    "   - Each constraint involves some subset of the variables and specifies the allowable combinations of values those variables can take. Constraints can be represented in various ways, including explicit lists of allowable combinations (extensional constraints) or more general mathematical relations or logical propositions (intensional constraints).\n",
    "   \n",
    " - **Scenario 1:**\n",
    "   1. There must be 2 Python Programmers, 2 AI Engineers, 1 Web Designer, 1 Database Admin, and 1 Systems Engineer;\n",
    "   2. Ciara knows Python, so 1 Python role is taken (remaining 1);\n",
    "   3. The company can hire only 3 people to fill the rest of the roles. \n",
    "   \n",
    "   - **Scenario 2:**\n",
    "   1. There must be 2 Python Programmers, 3 AI Engineers, 1 Web Designer, 1 Database Admin, and 1 Systems Engineer;\n",
    "   2. This time, Juan and Ciara have to be on the list of hired people with their respective abilities.\n",
    "   3. The company can hire max of 4 people for the rest of the roles.\n",
    "   \n",
    "\n",
    "### Objective:\n",
    "\n",
    "The objective of a CSP is to find an assignment of values to variables that satisfies all constraints. \n",
    "\n",
    "### Solution:\n",
    "\n",
    "- The CSP algorithm would try different combinations of the candidates, assigning them to various roles while ensuring all constraints are met.\n",
    "- A solution to the CSP is an assignment of values to all variables that does not violate any constraints. Depending on the problem, there might be none, one, or many possible solutions. \n",
    "- It uses backtracking to explore all possible configurations going backwards and checking if any constraint is violated.\n",
    "- Scenario 1 found only two solutions. The reason is that only 3 people were hired to fulfill 6 roles, making the constraints harder to satisfy.\n",
    "- Scenario 2 found close to ten solutions. The reason is that Juan is now Ciara's partner, and both must be part of the hired team. Now, the constraints are much easier to satisfy, as there are 5 abilities left to be distributed among 4 people.\n",
    "\n",
    "### Conclusion\n",
    "\n",
    "Most algorithms for solving CSPs search systematically through the possible assignments of values to variables. These algorithms are goint to find a solution, if one exists, or to prove that the problem is unsatisfiable. (Brailsford, Potts & Smith, 1999)\n",
    "\n",
    "CSPs are a powerful abstract model for representing and solving many real-world problems in various fields such as scheduling, planning, resource allocation, configuration, and spatial reasoning. They offer a structured way to break down complex problems into manageable components (variables, domains, and constraints) and apply systematic methods to find solutions."
   ]
  },
  {
   "cell_type": "markdown",
   "metadata": {},
   "source": [
    "### 3.\tThese problems be solved using several other algorithm’s we have studied in the module. Choose one of these algorithms and discuss your answer in detail including a proof of your hypothesis in code "
   ]
  },
  {
   "cell_type": "markdown",
   "metadata": {},
   "source": [
    "### Integer Linear Programming (ILP)\n",
    "\n",
    "\n",
    "Integer Linear Programming (ILP) is a type of mathematical optimization or feasibility program used to find the best solution out of a set of possible solutions. In ILP:\n",
    "- Variables are restricted to be integers.\n",
    "- The objective is often to minimize or maximize some linear function of those integers.\n",
    "\n",
    "The assumption of divisibility, which limits decision variables to noninteger values, is the main drawback of linear programming. However, in several real-world situations, decision variables needs to have integer values such as assigning people, machines, or vehicles to activities. (Hillier & Lieberman, 2010)\n",
    "\n",
    "The ILP algorithm finds every feasible unique solution by use of a unique twist on iterative integer linear programming: solution blocking. It uses integer constraints (binary variables for assignments and hiring) along with linear programming techniques for optimization (minimizing the number of hired people), and iteratively adds constraints to fully explore the solution space. When addressing issues involving resource allocation and operations research, where specific goals must be optimized within predetermined parameters, this kind of problem-solving is most prevalent.\n",
    "\n",
    "\n",
    "#### How ILP Works\n",
    "\n",
    "**Variable Definition:**  A decision point is represented by each variable. For instance, a variable may indicate whether a person is assigned to a specific job in a resource allocation problem (1 for yes, 0 for no).\n",
    "\n",
    "**Constraints:** Setting requirements that all solutions must adhere to is necessary for ILP. These can ensure that resources aren't over-allocated, and that only feasible solutions are considered.\n",
    "Typical restrictions include making sure the right amount of roles are filled or that no one is put in a role that isn't a good fit for them based on their abilities.\n",
    "\n",
    "**Objective Function:** What you want to optimize is the objective function, which might be anything like maximizing efficiency or lowering expenses. Sometimes, the goal could be as simple as identifying any feasible solution that satisfies the constraints.\n",
    "\n",
    "#### Advantages of ILP\n",
    "\n",
    "- **Optimality:** ILP can provide the best possible solution according to the objective function and within the constraints.\n",
    "- **Flexibility:** It can deal with a broad range of problem types, including complex and large-scale problems.\n",
    "- **Universality:** ILP models are broadly applicable in numerous fields such as scheduling, resource allocation, budgeting, etc. (Hillier & Lieberman, 2010)\n",
    "\n",
    "####  Conclusion\n",
    "\n",
    "The inconsistency of Integer Linear Programming (ILP) algorithms in solving integer problems represents a notable drawback. While theoretical demonstrations assert these algorithms' convergence within a finite number of iterations, practical implementation on computers can yield a different experience. As such, it's important to consider these computational limitations and the potential for inconsistency when examining and applying ILP algorithms.(Taha, 2017)."
   ]
  },
  {
   "cell_type": "code",
   "execution_count": 2,
   "metadata": {
    "scrolled": false
   },
   "outputs": [
    {
     "name": "stdout",
     "output_type": "stream",
     "text": [
      "Solution # 1\n",
      "Juan : Web, AI\n",
      "Jim : Systems, AI\n",
      "Jane : Database, Python\n",
      "Solution # 2\n",
      "Jim : Systems, AI\n",
      "Jane : Database, Python\n",
      "Anita : Web, AI\n",
      "Total 2 unique solutions found.\n"
     ]
    }
   ],
   "source": [
    "from pulp import LpProblem, LpVariable, LpMinimize, lpSum, LpStatus\n",
    "\n",
    "# Variables and their domains (abilities)\n",
    "variables_domain_2 = {\n",
    "    \"Peter\": {\"Python\", \"AI\"},\n",
    "    \"Juan\": {\"Web\", \"AI\"},\n",
    "    \"Jim\": {\"AI\", \"Systems\"},\n",
    "    \"Jane\": {\"Python\", \"Database\"},\n",
    "    \"Mary\": {\"Web\", \"Systems\"},\n",
    "    \"Bruce\": {\"Systems\", \"Python\"},\n",
    "    \"Anita\": {\"Web\", \"AI\"}\n",
    "}\n",
    "\n",
    "# Defined roles that need to be filled, considering Ciara's contribution\n",
    "role_needs = {\"Python\": 1, \"AI\": 2, \"Web\": 1, \"Database\": 1, \"Systems\": 1}\n",
    "\n",
    "# Initialize the problem\n",
    "prob = LpProblem(\"Scenario_1\", LpMinimize)\n",
    "\n",
    "# Define variables: x[person, role] is 1 if the person is assigned to the role\n",
    "x = LpVariable.dicts(\"assignment\", [(person, role) for person in variables_domain_2 for role in variables_domain_2[person]], cat='Binary')\n",
    "\n",
    "# Define a helper variable for each person indicating if they are hired\n",
    "hired = LpVariable.dicts(\"hired\", variables_domain_2.keys(), cat='Binary')\n",
    "\n",
    "# Objective function: Minimize the number of people hired\n",
    "prob += lpSum(hired[person] for person in variables_domain_2)\n",
    "\n",
    "# Constraints\n",
    "\n",
    "# Ensure each role has enough people\n",
    "for role in role_needs:\n",
    "    prob += lpSum(x[(person, role)] for person in variables_domain_2 if role in variables_domain_2[person]) == role_needs[role]\n",
    "\n",
    "# Link the hiring variable with the assignment variables\n",
    "for person in variables_domain_2:\n",
    "    prob += hired[person] * 2 == lpSum(x[(person, role)] for role in variables_domain_2[person])\n",
    "\n",
    "# Ensure exactly 3 people are hired\n",
    "prob += lpSum(hired[person] for person in variables_domain_2) == 3\n",
    "\n",
    "# List to store all unique solutions\n",
    "all_solutions = []\n",
    "\n",
    "# Function to add constraints that block the previous solutions\n",
    "def block_previous_solutions(prob, solutions, x):\n",
    "    for solution in solutions:\n",
    "        # Creating a unique constraint for each previous solution found\n",
    "        prob += lpSum(x[person, role] for (person, role) in solution.keys() if solution[(person, role)] == 1) <= sum(solution.values()) - 1\n",
    "\n",
    "\n",
    "while True:\n",
    "    # Solve the problem\n",
    "    prob.solve()\n",
    "\n",
    "    # Check if a new solution is found\n",
    "    if LpStatus[prob.status] == 'Optimal':\n",
    "        # Extract the current solution\n",
    "        current_solution = {(person, role): x[(person, role)].varValue for (person, role) in x.keys() if x[(person, role)].varValue == 1}\n",
    "\n",
    "        # Check for uniqueness of the solution\n",
    "        if current_solution not in all_solutions:\n",
    "            all_solutions.append(current_solution)\n",
    "            print(\"Solution #\", len(all_solutions))\n",
    "            \n",
    "            # Print each person's name with their assigned roles\n",
    "            assignments = {person: [] for person in variables_domain_2}\n",
    "            for (person, role) in current_solution.keys():\n",
    "                if current_solution[(person, role)] == 1:  # If the person is assigned to the role\n",
    "                    assignments[person].append(role)  # Append the role to the person's list of roles\n",
    "\n",
    "            # Print assignments\n",
    "            for person, roles in assignments.items():\n",
    "                if roles:  # If the person has roles assigned\n",
    "                    print(f\"{person} : {', '.join(roles)}\")\n",
    "\n",
    "            # Add a constraint to block the current solution\n",
    "            block_previous_solutions(prob, [current_solution], x)\n",
    "\n",
    "        else:\n",
    "            # If the solution is already found, break the loop\n",
    "            break\n",
    "    else:\n",
    "        # No more solutions are available\n",
    "        break\n",
    "\n",
    "print(f\"Total {len(all_solutions)} unique solutions found.\")\n"
   ]
  },
  {
   "cell_type": "markdown",
   "metadata": {},
   "source": [
    "# Data Visualization"
   ]
  },
  {
   "cell_type": "markdown",
   "metadata": {},
   "source": [
    "- Use appropriate visualisations to help communicate the CSP scenario and the corresponding solutions, if any, to the appropriate stakeholders.\n",
    "- Create interactive visualisation(s) to allow a user to explore alternate constraint scenarios\n",
    "- Create GUI(s) to allow a user to explore alternate constraint scenarios\n",
    "- Include in your report a section for a theoretical AI “team” you are part of, explaining the visualisation processes and rationalising your visualisation decisions (eg chart choice, colour, layout etc).\n"
   ]
  },
  {
   "cell_type": "code",
   "execution_count": 3,
   "metadata": {},
   "outputs": [],
   "source": [
    "import tkinter as tk\n",
    "from tkinter import ttk, messagebox\n",
    "from matplotlib.backends.backend_tkagg import FigureCanvasTkAgg\n",
    "from matplotlib.ticker import MaxNLocator\n",
    "\n",
    "\n",
    "# Your initial constraint and pre-selected data\n",
    "skill_constraints = Counter({\"Python\": 2, \"AI\": 2, \"Web\": 1, \"Database\": 1, \"Systems\": 1})\n",
    "employee_skills = {\n",
    "    \"Peter\": {\"Python\", \"AI\"},\n",
    "    \"Juan\": {\"Web\", \"AI\"}, \n",
    "    \"Jim\": {\"AI\", \"Systems\"},\n",
    "    \"Jane\": {\"Python\", \"Database\"},\n",
    "    \"Mary\": {\"Web\", \"Systems\"},\n",
    "    \"Bruce\": {\"Systems\", \"Python\"},\n",
    "    \"Anita\": {\"Web\", \"AI\"}, \n",
    "    \"Ciara\": {\"Python\"}  \n",
    "}\n",
    "#pre_selected = set()"
   ]
  },
  {
   "cell_type": "code",
   "execution_count": 4,
   "metadata": {},
   "outputs": [],
   "source": [
    "# Function to check if a combination of people meets the required skills\n",
    "def meets_requirements(people, skill_constraints, domains):\n",
    "    skills_count = Counter(skill_constraints)\n",
    "    for person in people:\n",
    "        for skill in domains[person]:\n",
    "            if skill in skills_count:\n",
    "                skills_count[skill] -= 1\n",
    "    return all(count <= 0 for count in skills_count.values())"
   ]
  },
  {
   "cell_type": "code",
   "execution_count": 5,
   "metadata": {},
   "outputs": [],
   "source": [
    "# Initialize main application window\n",
    "root = tk.Tk()\n",
    "root.title(\"Team Constraints Explorer\")\n",
    "\n",
    "# Define layout and frames with improved aesthetics\n",
    "mainframe = ttk.Frame(root, padding=\"10 10 10 10\")\n",
    "mainframe.grid(column=0, row=0, sticky=(tk.W, tk.E, tk.N, tk.S))\n",
    "root.columnconfigure(0, weight=1)\n",
    "root.rowconfigure(0, weight=1)\n",
    "root.configure(bg='#333')\n",
    "\n",
    "# Configure ttk style for dark theme\n",
    "style = ttk.Style()\n",
    "style.configure(\"TFrame\", background='#333', foreground='white')\n",
    "style.configure(\"TButton\", font=('Helvetica', 12), background='#555', foreground='black')\n",
    "style.configure(\"TLabel\", font=('Helvetica', 12), background='#333', foreground='white')\n",
    "style.configure(\"TCheckbutton\", font=('Helvetica', 12), background='#333', foreground='white')"
   ]
  },
  {
   "cell_type": "code",
   "execution_count": 6,
   "metadata": {},
   "outputs": [],
   "source": [
    "# Function to calculate and display teams\n",
    "def calculate_teams():\n",
    "    try:\n",
    "        updated_constraints = Counter({role: int(input_box.get()) for role, input_box in zip(skill_constraints.keys(), role_inputs)})\n",
    "        total_people = int(total_people_input.get())\n",
    "        pre_selected = {name for name, var in pre_selected_checks.items() if var.get()}\n",
    "        possible_teams = []\n",
    "\n",
    "        for r in range(1, total_people + 1 - len(pre_selected)):\n",
    "            for team in combinations(set(employee_skills.keys()) - pre_selected, r):\n",
    "                full_team = pre_selected.union(team)\n",
    "                if meets_requirements(full_team, updated_constraints, employee_skills):\n",
    "                    possible_teams.append(full_team)\n",
    "\n",
    "        output_area.delete(1.0, tk.END)\n",
    "        if possible_teams:\n",
    "            for team in sorted(possible_teams, key=lambda x: len(x)):\n",
    "                output_area.insert(tk.END, f\"{', '.join(sorted(team))}\\n\")\n",
    "        else:\n",
    "            output_area.insert(tk.END, \"No possible teams meet the requirements.\\n\")\n",
    "\n",
    "        update_visualization(possible_teams)\n",
    "    except ValueError as e:\n",
    "        messagebox.showerror(\"Error\", f\"Invalid input: {e}\")"
   ]
  },
  {
   "cell_type": "code",
   "execution_count": 7,
   "metadata": {},
   "outputs": [],
   "source": [
    "# Function to update visualization\n",
    "def update_visualization(possible_teams):\n",
    "    # Create a new top-level window or use an existing one\n",
    "    if not hasattr(update_visualization, \"plot_window\") or not update_visualization.plot_window.winfo_exists():\n",
    "        update_visualization.plot_window = tk.Toplevel(root)\n",
    "        update_visualization.plot_window.title(\"Visualizations\")\n",
    "        update_visualization.plot_window.configure(bg='#333')\n",
    "\n",
    "    # Clear any previous figures in this window\n",
    "    for widget in update_visualization.plot_window.winfo_children():\n",
    "        widget.destroy()\n",
    "\n",
    "    # Your usual visualization setup code...\n",
    "    individual_counts = Counter([member for team in possible_teams for member in team])\n",
    "    team_sizes = [len(team) for team in possible_teams]\n",
    "    total_teams = len(possible_teams)\n",
    "\n",
    "    fig, axs = plt.subplots(1, 2, figsize=(12, 6))\n",
    "\n",
    "    if total_teams > 0:\n",
    "        # Bar chart for individual participation\n",
    "        individuals = list(individual_counts.keys())\n",
    "        counts = list(individual_counts.values())\n",
    "        percentages = [count / total_teams * 100 for count in counts]\n",
    "        bars = axs[0].bar(individuals, counts, color='skyblue')\n",
    "        for bar, pct in zip(bars, percentages):\n",
    "            yval = bar.get_height()\n",
    "            axs[0].text(bar.get_x() + bar.get_width()/2, yval, f'{pct:.1f}%', ha='center', va='bottom')\n",
    "        axs[0].set_title('Participation of Employees in Teams')\n",
    "        axs[0].set_xlabel('Employees')\n",
    "        axs[0].set_ylabel('Number of Teams Participated In')\n",
    "        axs[0].yaxis.set_major_locator(MaxNLocator(integer=True))\n",
    "\n",
    "        # Histogram for team size distribution\n",
    "        axs[1].hist(team_sizes, bins=range(min(team_sizes), max(team_sizes)+2), color='lightgreen', align='left')\n",
    "        axs[1].set_title('Distribution of Team Sizes')\n",
    "        axs[1].set_xlabel('Team Size')\n",
    "        axs[1].set_ylabel('Number of Teams')\n",
    "        axs[1].xaxis.set_major_locator(MaxNLocator(integer=True))\n",
    "        axs[1].yaxis.set_major_locator(MaxNLocator(integer=True))\n",
    "    else:\n",
    "        # No teams message\n",
    "        axs[0].text(0.5, 0.5, 'No possible teams', ha='center', va='center', transform=axs[0].transAxes)\n",
    "        axs[1].text(0.5, 0.5, 'No possible teams', ha='center', va='center', transform=axs[1].transAxes)\n",
    "\n",
    "    canvas = FigureCanvasTkAgg(fig, master=update_visualization.plot_window)\n",
    "    canvas.draw()\n",
    "    canvas.get_tk_widget().pack(fill=tk.BOTH, expand=1)"
   ]
  },
  {
   "cell_type": "code",
   "execution_count": 8,
   "metadata": {},
   "outputs": [],
   "source": [
    "# Setting up widgets with refined layout and styles\n",
    "# Input for role-specific numbers and other inputs\n",
    "role_labels = []\n",
    "role_inputs = []\n",
    "for i, role in enumerate(skill_constraints.keys(), start=1):\n",
    "    ttk.Label(mainframe, text=f\"{role} :\").grid(column=1, row=i, sticky=tk.W)\n",
    "    input_box = ttk.Entry(mainframe)\n",
    "    input_box.grid(column=2, row=i, sticky=(tk.W, tk.E))\n",
    "    role_inputs.append(input_box)\n",
    "\n",
    "ttk.Label(mainframe, text=\"Total people to hire:\").grid(column=1, row=len(skill_constraints)+1, sticky=tk.W)\n",
    "total_people_input = ttk.Entry(mainframe)\n",
    "total_people_input.grid(column=2, row=len(skill_constraints)+1, sticky=(tk.W, tk.E))\n",
    "\n",
    "pre_selected_checks = {}\n",
    "ttk.Label(mainframe, text=\"Pre-select individuals:\").grid(column=1, row=len(skill_constraints)+2, sticky=tk.W)\n",
    "for i, individual in enumerate(employee_skills.keys(), start=0):\n",
    "    var = tk.BooleanVar()\n",
    "    check = ttk.Checkbutton(mainframe, text=individual, variable=var)\n",
    "    check.grid(column=2, row=len(skill_constraints)+3+i, sticky=tk.W)\n",
    "    pre_selected_checks[individual] = var\n",
    "\n",
    "# Calculate Teams Button\n",
    "calculate_button = ttk.Button(mainframe, text=\"Calculate Teams\", command=calculate_teams)\n",
    "calculate_button.grid(column=2, row=len(skill_constraints)+3+len(employee_skills), sticky=tk.W)\n",
    "calculate_button.configure(style='TButton')\n",
    "\n",
    "# Output area for teams\n",
    "ttk.Label(mainframe, text=\"Possible Teams:\").grid(column=1, row=len(skill_constraints)+4+len(employee_skills), sticky=tk.W)\n",
    "output_area = tk.Text(mainframe, height=10, width=50)\n",
    "output_area.grid(column=1, row=len(skill_constraints)+5+len(employee_skills), columnspan=2, sticky=(tk.W, tk.E))\n",
    "scrollbar = ttk.Scrollbar(mainframe, command=output_area.yview)\n",
    "scrollbar.grid(column=3, row=len(skill_constraints)+5+len(employee_skills), sticky=(tk.N, tk.S))\n",
    "output_area['yscrollcommand'] = scrollbar.set\n"
   ]
  },
  {
   "cell_type": "code",
   "execution_count": 9,
   "metadata": {},
   "outputs": [
    {
     "data": {
      "image/png": "[encoded data removed]",
      "text/plain": [
       "<Figure size 912x580 with 2 Axes>"
      ]
     },
     "metadata": {
      "needs_background": "light"
     },
     "output_type": "display_data"
    },
    {
     "data": {
      "image/png": "[encoded data removed]",
      "text/plain": [
       "<Figure size 912x580 with 2 Axes>"
      ]
     },
     "metadata": {
      "needs_background": "light"
     },
     "output_type": "display_data"
    }
   ],
   "source": [
    "# Run the application\n",
    "root.mainloop()"
   ]
  },
  {
   "cell_type": "markdown",
   "metadata": {},
   "source": [
    "## References\n",
    "- Stuart Jonathan Russell; Peter Norvig (2010). Artificial Intelligence: A Modern Approach. Prentice Hall. p. Chapter 6. \n",
    "- docs.python.org. (n.d.). itertools — Functions creating iterators for efficient looping — Python 3.9.1 documentation. [online] Available at: https://docs.python.org/3/library/itertools.html.\n",
    "\n",
    "- Barták, R., Morris, R.A. and K. Brent Venable (2014). CONSTRAINT PROPAGATION AND BACKTRACKING-BASED SEARCH A brief introduction to mainstream techniques of constraint satisfaction. \n",
    "- Wikipedia Contributors (2019). Constraint satisfaction problem. [online] Wikipedia. Available at: https://en.wikipedia.org/wiki/Constraint_satisfaction_problem.\n",
    "\n",
    "- www.cs.cmu.edu. (n.d.). Constraint Satisfaction Problems. [online] Available at: https://www.cs.cmu.edu/~15281/coursenotes/constraints/index.html [Accessed 28 Dec. 2023].\n",
    "\n",
    "- Brailsford, S.C., Potts, C.N. and Smith, B.M. (1999). Constraint satisfaction problems: Algorithms and applications. European Journal of Operational Research, 119(3), pp.557–581. doi:https://doi.org/10.1016/s0377-2217(98)00364-6.\n",
    "\n",
    "- https://docs.pulpproject.org/pulpcore/\n",
    "- Taha, H.A. (2017). Operations research an introduction. Boston: Pearson.\n",
    "- Rodriguez, T.S. (2022). Linear Programming: optimizing solutions with Python using PuLP. [online] Medium. Available at: https://medium.com/@telmosubirar/linear-programming-optimizing-solutions-with-python-using-pulp-e0c4379696c8 [Accessed 28 Dec. 2023].\n",
    "- Hillier, F.S. and Lieberman, G.J. (2010). Introduction to operations research. New York, Ny: Mcgraw-Hill.\n",
    "‌\n"
   ]
  },
  {
   "cell_type": "code",
   "execution_count": null,
   "metadata": {},
   "outputs": [],
   "source": []
  },
  {
   "cell_type": "code",
   "execution_count": null,
   "metadata": {},
   "outputs": [],
   "source": []
  },
  {
   "cell_type": "code",
   "execution_count": null,
   "metadata": {},
   "outputs": [],
   "source": []
  },
  {
   "cell_type": "code",
   "execution_count": null,
   "metadata": {},
   "outputs": [],
   "source": []
  }
 ],
 "metadata": {
  "kernelspec": {
   "display_name": "Python 3",
   "language": "python",
   "name": "python3"
  },
  "language_info": {
   "codemirror_mode": {
    "name": "ipython",
    "version": 3
   },
   "file_extension": ".py",
   "mimetype": "text/x-python",
   "name": "python",
   "nbconvert_exporter": "python",
   "pygments_lexer": "ipython3",
   "version": "3.8.5"
  }
 },
 "nbformat": 4,
 "nbformat_minor": 4
}
