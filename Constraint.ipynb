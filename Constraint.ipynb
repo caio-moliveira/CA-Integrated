{
 "cells": [
  {
   "cell_type": "markdown",
   "metadata": {},
   "source": [
    "Ciara is looking for employees for her new company, which develops and provides AI based logistic software for retailers. Ciara has determined that she needs:\n",
    "\n",
    "2 Python Programmers, 2 AI Engineers, 1 Web Designer, 1 Database Admin, and 1 Systems Engineer.\n",
    "Assume that if a person has two abilities, he or she can take on two roles in the company.\n",
    "\n",
    "So Ciara narrowed down her selections to the following people:\n",
    "\n",
    "- __Name & Abilities__\n",
    "- Peter : Python and AI\n",
    "- Juan : Web and AI\n",
    "- Jim : AI and Systems\n",
    "- Jane : Python and Database\n",
    "- Mary : Web and Systems\n",
    "- Bruce : Systems and Python\n",
    "- Anita : Web and AI\n",
    "\n",
    "### Scenario 1:\n",
    "\n",
    "Suppose Ciara knows Python, and only has funds to hire __three__ more people.\n"
   ]
  },
  {
   "cell_type": "markdown",
   "metadata": {},
   "source": [
    "### Constraint Satisfaction Problem (CSP)\n",
    "\n",
    "A Constraint Satisfaction Problem (CSP) involves finding a solution that satisfies a number of constraints or conditions. It is widely used in fields like artificial intelligence for scheduling, assigning, and planning problems. CSPs typically involve variables, domains for each variable, and constraints that describe allowable combinations of values. The goal is to assign values to all variables in a way that doesn't violate any constraints (Russell & Norvig, 2010, Artificial Intelligence: A Modern Approach). This framework is particularly effective in scenarios like employee scheduling, where multiple conditions must be met simultaneously.\n",
    "\n",
    "We treat this scenario as a CSP, a paradigm often used in artificial intelligence to solve problems where entities (in this case, employees) must be assigned without violating any constraints (here, the job role requirements). The solution must:\n",
    "\n",
    "- Cover all required skills with the minimum number of hires.\n",
    "- Allocate specific roles to each selected candidate.\n",
    "\n",
    "### Code explanation\n",
    "\n",
    "- _'itertools.combinations'_: This tool from the itertools module is used to generate all possible combinations of the candidates. It's crucial for exploring every potential team composition from the pool of candidates. (Python 3.12.1 documentation)\n",
    "\n",
    "- _'people_abilities'_: A dictionary where keys are candidate names and values are sets of their skills. It represents the pool of potential hires.\n",
    "- _'roles_needed'_: A dictionary outlining the number of each type of skill required. It's adjusted to account for Ciara's Python skill.\n",
    "- _'get_all_valid_combinations'_: A function that iterates through all possible combinations of three candidates using itertools.combinations. It checks if a combination covers all roles by comparing the sum of their skills against roles_needed.\n",
    "- _'valid_combinations'_: This is where the function stores each successful combination that meets the criteria, alongside the specific roles each person would fill."
   ]
  },
  {
   "cell_type": "code",
   "execution_count": 7,
   "metadata": {},
   "outputs": [
    {
     "data": {
      "text/plain": [
       "[(('Juan', 'Jim', 'Jane'),\n",
       "  {'Juan': {'AI', 'Web'},\n",
       "   'Jim': {'AI', 'Systems'},\n",
       "   'Jane': {'Database', 'Python'}}),\n",
       " (('Jim', 'Jane', 'Anita'),\n",
       "  {'Jim': {'AI', 'Systems'},\n",
       "   'Jane': {'Database', 'Python'},\n",
       "   'Anita': {'AI', 'Web'}})]"
      ]
     },
     "execution_count": 7,
     "metadata": {},
     "output_type": "execute_result"
    }
   ],
   "source": [
    "from itertools import combinations\n",
    "\n",
    "# Define the people and their abilities\n",
    "people_abilities = {\n",
    "    \"Peter\": {\"Python\", \"AI\"},\n",
    "    \"Juan\": {\"Web\", \"AI\"},\n",
    "    \"Jim\": {\"AI\", \"Systems\"},\n",
    "    \"Jane\": {\"Python\", \"Database\"},\n",
    "    \"Mary\": {\"Web\", \"Systems\"},\n",
    "    \"Bruce\": {\"Systems\", \"Python\"},\n",
    "    \"Anita\": {\"Web\", \"AI\"}\n",
    "}\n",
    "\n",
    "# Define the roles needed in the company\n",
    "roles_needed = {\"Python\": 1, \"AI\": 2, \"Web\": 1, \"Database\": 1, \"Systems\": 1}\n",
    "# Adjust for Ciara's abilities (she knows Python)\n",
    "roles_needed[\"Python\"] -= 1  # Ciara covers one Python role\n",
    "\n",
    "# Function to find all valid combinations of employees who can cover the required roles\n",
    "def get_all_valid_combinations(people_abilities, roles_needed):\n",
    "    valid_combinations = []\n",
    "\n",
    "    # Iterate through all combinations of 3 people\n",
    "    for combo in combinations(people_abilities.keys(), 3):\n",
    "        # Create a dictionary to hold the cumulative abilities of the combination\n",
    "        combined_abilities = {}\n",
    "        for person in combo:\n",
    "            for ability in people_abilities[person]:\n",
    "                combined_abilities[ability] = combined_abilities.get(ability, 0) + 1\n",
    "\n",
    "        # Check if the combination covers all roles\n",
    "        if all(combined_abilities.get(role, 0) >= count for role, count in roles_needed.items()):\n",
    "            # If so, record the combination and what each person would do\n",
    "            roles_for_combo = {person: people_abilities[person] & roles_needed.keys() for person in combo}\n",
    "            valid_combinations.append((combo, roles_for_combo))\n",
    "\n",
    "    return valid_combinations\n",
    "\n",
    "# Get all valid combinations of people that can cover the needed roles\n",
    "all_valid_combinations = get_all_valid_combinations(people_abilities, roles_needed)\n",
    "all_valid_combinations\n",
    "\n"
   ]
  },
  {
   "cell_type": "markdown",
   "metadata": {},
   "source": [
    "## References\n",
    "- Russell, S., & Norvig, P. (2010). Artificial Intelligence: A Modern Approach (3rd ed.). Prentice Hall. - This book provides foundational concepts on CSP and other AI methodologies.\n",
    "- docs.python.org. (n.d.). itertools — Functions creating iterators for efficient looping — Python 3.9.1 documentation. [online] Available at: https://docs.python.org/3/library/itertools.html.\n",
    "\n"
   ]
  },
  {
   "cell_type": "code",
   "execution_count": null,
   "metadata": {},
   "outputs": [],
   "source": []
  }
 ],
 "metadata": {
  "kernelspec": {
   "display_name": "Python 3",
   "language": "python",
   "name": "python3"
  },
  "language_info": {
   "codemirror_mode": {
    "name": "ipython",
    "version": 3
   },
   "file_extension": ".py",
   "mimetype": "text/x-python",
   "name": "python",
   "nbconvert_exporter": "python",
   "pygments_lexer": "ipython3",
   "version": "3.8.5"
  }
 },
 "nbformat": 4,
 "nbformat_minor": 4
}
