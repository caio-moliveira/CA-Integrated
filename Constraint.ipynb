{
 "cells": [
  {
   "cell_type": "markdown",
   "metadata": {},
   "source": [
    "# Artificial Intelligence"
   ]
  },
  {
   "cell_type": "markdown",
   "metadata": {},
   "source": [
    "###  1.\tUsing any CSP (Constraint Satisfaction Problem) framework (using variables, value domains, and constraints), discover if the above problems can be solved and if so detail who would be in hired."
   ]
  },
  {
   "cell_type": "markdown",
   "metadata": {},
   "source": [
    "\n",
    "\n",
    "\n",
    "Ciara is looking for employees for her new company, which develops and provides AI based logistic software for retailers. Ciara has determined that she needs:\n",
    "\n",
    "2 Python Programmers, 2 AI Engineers, 1 Web Designer, 1 Database Admin, and 1 Systems Engineer.\n",
    "Assume that if a person has two abilities, he or she can take on two roles in the company.\n",
    "\n",
    "So Ciara narrowed down her selections to the following people:\n",
    "\n",
    "- __Name & Abilities__\n",
    "- Peter : Python and AI\n",
    "- Juan : Web and AI\n",
    "- Jim : AI and Systems\n",
    "- Jane : Python and Database\n",
    "- Mary : Web and Systems\n",
    "- Bruce : Systems and Python\n",
    "- Anita : Web and AI\n",
    "\n",
    "### Scenario 1:\n",
    "\n",
    "Suppose Ciara knows Python, and only has funds to hire __three__ more people.\n"
   ]
  },
  {
   "cell_type": "markdown",
   "metadata": {},
   "source": [
    "__Variables__: The variables are the people (Peter, Juan, Jim, Jane, Mary, Bruce, Anita). Each person represents a variable that needs to be assigned a role based on their abilities.\n",
    "\n",
    "__Value Domains__: The domain of each variable (person) is their set of abilities. For example, the domain for Peter is {\"Python\", \"AI\"}.\n",
    "\n",
    "__Constraints__:\n",
    "- Each person can be assigned only to roles matching their abilities.\n",
    "- The total number of people hired should be three (excluding Ciara).\n",
    "- The required roles in the company (_'constraints'_) must all be filled. This includes 1 Python Programmer, 2 AI Engineers, 1 Web Designer, 1 Database Admin, and 1 Systems Engineer.\n"
   ]
  },
  {
   "cell_type": "markdown",
   "metadata": {},
   "source": [
    "### Scenario 2:\n",
    "\n",
    "Suppose Ciara and Juan become partners, with the additional funds they can now employ four more people but must employ another AI Engineer, so they need 2 Python Programmers, 3 AI Engineers, 1 Web Designer, 1 Database Admin, and 1 Systems Engineer.\n",
    "\n",
    "Variables and Value Domains remains the same as scenarion 1.\n",
    "\n",
    "Constraints:\n",
    "\n",
    "- Juan becomes Ciara's partner and will be moved to pre-selected list.\n",
    "- The total number of people hired must be up to four (excluding Ciara and Juan)\n",
    "- The required roles in the company `constraint` must all be filled. This includes 2 Python Programmer, 3 AI Engineers, 1 Web Designer, 1 Database Admin, and 1 Systems Engineer.\n"
   ]
  },
  {
   "cell_type": "code",
   "execution_count": 4,
   "metadata": {},
   "outputs": [],
   "source": [
    "from itertools import combinations\n",
    "from collections import Counter\n",
    "import customtkinter as ctk\n",
    "import pandas as pd\n",
    "import matplotlib.pyplot as plt\n",
    "import seaborn as sns\n",
    "import tkinter as tk\n",
    "from tkinter import ttk, messagebox\n",
    "from matplotlib.backends.backend_tkagg import FigureCanvasTkAgg\n",
    "from matplotlib.ticker import MaxNLocator\n",
    "import ipywidgets as widgets\n",
    "import plotly.graph_objs as go\n",
    "from IPython.display import display, clear_output"
   ]
  },
  {
   "cell_type": "code",
   "execution_count": null,
   "metadata": {},
   "outputs": [],
   "source": [
    "# Adjusted variables and domain of the problem where variables = people, and domain = roles;\n",
    "variables_domain = {\n",
    "    \"Peter\": {\"Python\", \"AI\"},\n",
    "    \"Juan\": {\"Web\", \"AI\"}, \n",
    "    \"Jim\": {\"AI\", \"Systems\"},\n",
    "    \"Jane\": {\"Python\", \"Database\"},\n",
    "    \"Mary\": {\"Web\", \"Systems\"},\n",
    "    \"Bruce\": {\"Systems\", \"Python\"},\n",
    "    \"Anita\": {\"Web\", \"AI\"}, \n",
    "    \"Ciara\": {\"Python\"}  \n",
    "}\n",
    "\n",
    "# Define the required skills\n",
    "constraint = Counter({\"Python\": 2, \"AI\": 2, \"Web\": 1, \"Database\": 1, \"Systems\": 1}) # For Scenario 2 add one AI. \n",
    "\n",
    "# Pre-selected individuals\n",
    "#pre_selected = {\"Ciara\", \"Juan\"} # For Scenarion 2\n",
    "pre_selected = {\"Ciara\"} # For Scenarion 1\n",
    "\n",
    "# Remove pre-selected individuals from domain\n",
    "for person in pre_selected:\n",
    "    # Reduce the count of required skills based on pre-selected individuals\n",
    "    for skill in variables_domain[person]:\n",
    "        if skill in constraint:\n",
    "            constraint[skill] -= 1\n",
    "    del variables_domain[person]\n",
    "\n",
    "# Function to check if a combination of people meets the required skills\n",
    "def meets_requirements(people, constraint, domains):\n",
    "    skills_count = {skill: 0 for skill in constraint}\n",
    "    for person in people:\n",
    "        for skill in domains[person]:\n",
    "            if skill in skills_count:\n",
    "                skills_count[skill] += 1\n",
    "    # Check if all required skills are met or exceeded\n",
    "    return all(skills_count[skill] >= constraint[skill] for skill in constraint)\n",
    "\n",
    "# Generate all possible combinations of 4 or fewer people from the remaining candidates\n",
    "possible_teams = []\n",
    "#for r in range(1, 5): # For scenario 2\n",
    "for r in range(1, 4):  # For scenario 1\n",
    "    for team in combinations(variables_domain.keys(), r):\n",
    "        if meets_requirements(team, constraint, variables_domain):\n",
    "            possible_teams.append(pre_selected.union(team))  # Add pre-selected individuals to the team\n",
    "\n",
    "possible_teams"
   ]
  },
  {
   "cell_type": "markdown",
   "metadata": {},
   "source": [
    "### 3.\tThese problems be solved using several other algorithm’s we have studied in the module. Choose one of these algorithms and discuss your answer in detail including a proof of your hypothesis in code "
   ]
  },
  {
   "cell_type": "code",
   "execution_count": null,
   "metadata": {
    "scrolled": false
   },
   "outputs": [],
   "source": [
    "from pulp import LpProblem, LpVariable, LpMinimize, lpSum, LpStatus\n",
    "\n",
    "# Variables and their domains (abilities)\n",
    "variables_domain_2 = {\n",
    "    \"Peter\": {\"Python\", \"AI\"},\n",
    "    \"Juan\": {\"Web\", \"AI\"},\n",
    "    \"Jim\": {\"AI\", \"Systems\"},\n",
    "    \"Jane\": {\"Python\", \"Database\"},\n",
    "    \"Mary\": {\"Web\", \"Systems\"},\n",
    "    \"Bruce\": {\"Systems\", \"Python\"},\n",
    "    \"Anita\": {\"Web\", \"AI\"}\n",
    "}\n",
    "\n",
    "# Defined roles that need to be filled, considering Ciara's contribution\n",
    "role_needs = {\"Python\": 1, \"AI\": 2, \"Web\": 1, \"Database\": 1, \"Systems\": 1}\n",
    "\n",
    "# Initialize the problem\n",
    "prob = LpProblem(\"Scenario_1\", LpMinimize)\n",
    "\n",
    "# Define variables: x[person, role] is 1 if the person is assigned to the role\n",
    "x = LpVariable.dicts(\"assignment\", [(person, role) for person in variables_domain_2 for role in variables_domain_2[person]], cat='Binary')\n",
    "\n",
    "# Define a helper variable for each person indicating if they are hired\n",
    "hired = LpVariable.dicts(\"hired\", variables_domain_2.keys(), cat='Binary')\n",
    "\n",
    "# Objective function: Minimize the number of people hired\n",
    "prob += lpSum(hired[person] for person in variables_domain_2)\n",
    "\n",
    "# Constraints\n",
    "\n",
    "# Ensure each role has enough people\n",
    "for role in role_needs:\n",
    "    prob += lpSum(x[(person, role)] for person in variables_domain_2 if role in variables_domain_2[person]) == role_needs[role]\n",
    "\n",
    "# Link the hiring variable with the assignment variables\n",
    "for person in variables_domain_2:\n",
    "    prob += hired[person] * 2 == lpSum(x[(person, role)] for role in variables_domain_2[person])\n",
    "\n",
    "# Ensure exactly 3 people are hired\n",
    "prob += lpSum(hired[person] for person in variables_domain_2) == 3\n",
    "\n",
    "# List to store all unique solutions\n",
    "all_solutions = []\n",
    "\n",
    "# Function to add constraints that block the previous solutions\n",
    "def block_previous_solutions(prob, solutions, x):\n",
    "    for solution in solutions:\n",
    "        # Creating a unique constraint for each previous solution found\n",
    "        prob += lpSum(x[person, role] for (person, role) in solution.keys() if solution[(person, role)] == 1) <= sum(solution.values()) - 1\n",
    "\n",
    "\n",
    "while True:\n",
    "    # Solve the problem\n",
    "    prob.solve()\n",
    "\n",
    "    # Check if a new solution is found\n",
    "    if LpStatus[prob.status] == 'Optimal':\n",
    "        # Extract the current solution\n",
    "        current_solution = {(person, role): x[(person, role)].varValue for (person, role) in x.keys() if x[(person, role)].varValue == 1}\n",
    "\n",
    "        # Check for uniqueness of the solution\n",
    "        if current_solution not in all_solutions:\n",
    "            all_solutions.append(current_solution)\n",
    "            print(\"Solution #\", len(all_solutions))\n",
    "            \n",
    "            # Print each person's name with their assigned roles\n",
    "            assignments = {person: [] for person in variables_domain_2}\n",
    "            for (person, role) in current_solution.keys():\n",
    "                if current_solution[(person, role)] == 1:  # If the person is assigned to the role\n",
    "                    assignments[person].append(role)  # Append the role to the person's list of roles\n",
    "\n",
    "            # Print assignments\n",
    "            for person, roles in assignments.items():\n",
    "                if roles:  # If the person has roles assigned\n",
    "                    print(f\"{person} : {', '.join(roles)}\")\n",
    "\n",
    "            # Add a constraint to block the current solution\n",
    "            block_previous_solutions(prob, [current_solution], x)\n",
    "\n",
    "        else:\n",
    "            # If the solution is already found, break the loop\n",
    "            break\n",
    "    else:\n",
    "        # No more solutions are available\n",
    "        break\n",
    "\n",
    "print(f\"Total {len(all_solutions)} unique solutions found.\")\n"
   ]
  },
  {
   "cell_type": "markdown",
   "metadata": {},
   "source": [
    "# Data Visualization"
   ]
  },
  {
   "cell_type": "markdown",
   "metadata": {},
   "source": [
    "\n",
    "### Create interactive visualisation(s) to allow a user to explore alternate constraint scenarios\n",
    "\n",
    "\n"
   ]
  },
  {
   "cell_type": "code",
   "execution_count": 5,
   "metadata": {},
   "outputs": [],
   "source": [
    "# Assuming these global definitions are provided earlier\n",
    "skill_constraints = Counter({\"Python\": 2, \"AI\": 2, \"Web\": 1, \"Database\": 1, \"Systems\": 1})\n",
    "employee_skills = {\n",
    "    \"Peter\": {\"Python\", \"AI\"},\n",
    "    \"Juan\": {\"Web\", \"AI\"},\n",
    "    \"Jim\": {\"AI\", \"Systems\"},\n",
    "    \"Jane\": {\"Python\", \"Database\"},\n",
    "    \"Mary\": {\"Web\", \"Systems\"},\n",
    "    \"Bruce\": {\"Systems\", \"Python\"},\n",
    "    \"Anita\": {\"Web\", \"AI\"},\n",
    "    \"Ciara\": {\"Python\"}\n",
    "}\n",
    "\n"
   ]
  },
  {
   "cell_type": "code",
   "execution_count": 6,
   "metadata": {},
   "outputs": [],
   "source": [
    "def meets_requirements(people, skill_constraints, domains):\n",
    "    skills_count = Counter(skill_constraints)\n",
    "    for person in people:\n",
    "        for skill in domains[person]:\n",
    "            if skill in skills_count:\n",
    "                skills_count[skill] -= 1\n",
    "    return all(count <= 0 for count in skills_count.values())"
   ]
  },
  {
   "cell_type": "code",
   "execution_count": 7,
   "metadata": {
    "scrolled": false
   },
   "outputs": [
    {
     "data": {
      "application/vnd.jupyter.widget-view+json": {
       "model_id": "00bac155abf349689a714e364e9275b7",
       "version_major": 2,
       "version_minor": 0
      },
      "text/plain": [
       "IntSlider(value=2, description='Python:', max=4)"
      ]
     },
     "metadata": {},
     "output_type": "display_data"
    },
    {
     "data": {
      "application/vnd.jupyter.widget-view+json": {
       "model_id": "d9b047bafd3a43c1be822ff3d08cbf96",
       "version_major": 2,
       "version_minor": 0
      },
      "text/plain": [
       "IntSlider(value=2, description='AI:', max=4)"
      ]
     },
     "metadata": {},
     "output_type": "display_data"
    },
    {
     "data": {
      "application/vnd.jupyter.widget-view+json": {
       "model_id": "d52ec986b496459aadb8b8837ba19c05",
       "version_major": 2,
       "version_minor": 0
      },
      "text/plain": [
       "IntSlider(value=1, description='Web:', max=4)"
      ]
     },
     "metadata": {},
     "output_type": "display_data"
    },
    {
     "data": {
      "application/vnd.jupyter.widget-view+json": {
       "model_id": "a4b60f15676a48d39bb92b2ed60ed3ab",
       "version_major": 2,
       "version_minor": 0
      },
      "text/plain": [
       "IntSlider(value=1, description='Database:', max=4)"
      ]
     },
     "metadata": {},
     "output_type": "display_data"
    },
    {
     "data": {
      "application/vnd.jupyter.widget-view+json": {
       "model_id": "df6658b99b5a4876ae3e35cde88d55f1",
       "version_major": 2,
       "version_minor": 0
      },
      "text/plain": [
       "IntSlider(value=1, description='Systems:', max=4)"
      ]
     },
     "metadata": {},
     "output_type": "display_data"
    },
    {
     "data": {
      "application/vnd.jupyter.widget-view+json": {
       "model_id": "465dda069ac94155a73a46ead20f4371",
       "version_major": 2,
       "version_minor": 0
      },
      "text/plain": [
       "IntSlider(value=3, description='Total people to hire:', max=8, min=1)"
      ]
     },
     "metadata": {},
     "output_type": "display_data"
    },
    {
     "name": "stdout",
     "output_type": "stream",
     "text": [
      "Pre-select mandatory team members:\n"
     ]
    },
    {
     "data": {
      "application/vnd.jupyter.widget-view+json": {
       "model_id": "543c3e9e1eb7410da38f988ee4058c8e",
       "version_major": 2,
       "version_minor": 0
      },
      "text/plain": [
       "Checkbox(value=False, description='Peter')"
      ]
     },
     "metadata": {},
     "output_type": "display_data"
    },
    {
     "data": {
      "application/vnd.jupyter.widget-view+json": {
       "model_id": "779e7e9fec13429d9f9a15db3cd26106",
       "version_major": 2,
       "version_minor": 0
      },
      "text/plain": [
       "Checkbox(value=False, description='Juan')"
      ]
     },
     "metadata": {},
     "output_type": "display_data"
    },
    {
     "data": {
      "application/vnd.jupyter.widget-view+json": {
       "model_id": "06bbc60f1e95437aac54a0c2a6362e03",
       "version_major": 2,
       "version_minor": 0
      },
      "text/plain": [
       "Checkbox(value=False, description='Jim')"
      ]
     },
     "metadata": {},
     "output_type": "display_data"
    },
    {
     "data": {
      "application/vnd.jupyter.widget-view+json": {
       "model_id": "406f53cf090d4f7eb98cb88767171704",
       "version_major": 2,
       "version_minor": 0
      },
      "text/plain": [
       "Checkbox(value=False, description='Jane')"
      ]
     },
     "metadata": {},
     "output_type": "display_data"
    },
    {
     "data": {
      "application/vnd.jupyter.widget-view+json": {
       "model_id": "2f229e5384e442ba8a45c6819e9f4959",
       "version_major": 2,
       "version_minor": 0
      },
      "text/plain": [
       "Checkbox(value=False, description='Mary')"
      ]
     },
     "metadata": {},
     "output_type": "display_data"
    },
    {
     "data": {
      "application/vnd.jupyter.widget-view+json": {
       "model_id": "2243825ed5c94cdbbfd9d1ceb6d12a77",
       "version_major": 2,
       "version_minor": 0
      },
      "text/plain": [
       "Checkbox(value=False, description='Bruce')"
      ]
     },
     "metadata": {},
     "output_type": "display_data"
    },
    {
     "data": {
      "application/vnd.jupyter.widget-view+json": {
       "model_id": "d23202fd58d4412c94a6be80c8021e9d",
       "version_major": 2,
       "version_minor": 0
      },
      "text/plain": [
       "Checkbox(value=False, description='Anita')"
      ]
     },
     "metadata": {},
     "output_type": "display_data"
    },
    {
     "data": {
      "application/vnd.jupyter.widget-view+json": {
       "model_id": "5c59e5298aae4993b06871d1f4de1f7b",
       "version_major": 2,
       "version_minor": 0
      },
      "text/plain": [
       "Checkbox(value=False, description='Ciara')"
      ]
     },
     "metadata": {},
     "output_type": "display_data"
    },
    {
     "data": {
      "application/vnd.jupyter.widget-view+json": {
       "model_id": "e2850cd006e14ab8abbf3a809fb8053c",
       "version_major": 2,
       "version_minor": 0
      },
      "text/plain": [
       "Output()"
      ]
     },
     "metadata": {},
     "output_type": "display_data"
    }
   ],
   "source": [
    "class TeamExplorerApp:\n",
    "    def __init__(self):\n",
    "        self.pre_selected = set()  # Set to keep track of pre-selected individuals\n",
    "        self.init_ui_elements()\n",
    "\n",
    "    def init_ui_elements(self):\n",
    "        self.role_sliders = {}\n",
    "        for role, count in skill_constraints.items():\n",
    "            slider = widgets.IntSlider(value=count, min=0, max=4, description=f'{role}:')\n",
    "            slider.observe(self.update_plot, names='value')\n",
    "            display(slider)\n",
    "            self.role_sliders[role] = slider\n",
    "\n",
    "        self.total_people_slider = widgets.IntSlider(value=3, min=1, max=8, description='Total people to hire:')\n",
    "        self.total_people_slider.observe(self.update_plot, names='value')\n",
    "        display(self.total_people_slider)\n",
    "        \n",
    "        print(\"Pre-select mandatory team members:\")\n",
    "        for individual in employee_skills.keys():\n",
    "            chkbox = widgets.Checkbox(value=False, description=individual)\n",
    "            chkbox.observe(self.handle_preselect, names='value')\n",
    "            display(chkbox)\n",
    "        \n",
    "        self.output_area = widgets.Output()\n",
    "        display(self.output_area)\n",
    "        \n",
    "    def handle_preselect(self, change):\n",
    "        individual = change.owner.description\n",
    "        if change.new:  # If the checkbox is checked\n",
    "            self.pre_selected.add(individual)\n",
    "        else:  # If the checkbox is unchecked\n",
    "            self.pre_selected.discard(individual)\n",
    "        self.update_plot(None)  # Update the plot with the new pre-selected set\n",
    "\n",
    "    def update_plot(self, change):\n",
    "        updated_constraints = Counter({role: self.role_sliders[role].value for role in skill_constraints})\n",
    "        total_people = self.total_people_slider.value\n",
    "        possible_teams = []\n",
    "\n",
    "        for r in range(1, total_people + 1 - len(self.pre_selected)):\n",
    "            for team in combinations(set(employee_skills.keys()) - self.pre_selected, r):\n",
    "                full_team = self.pre_selected.union(team)\n",
    "                if meets_requirements(full_team, updated_constraints, employee_skills):\n",
    "                    possible_teams.append(full_team)\n",
    "\n",
    "        self.render_output(possible_teams)\n",
    "        \n",
    "    def render_output(self, possible_teams):\n",
    "        with self.output_area:\n",
    "            clear_output(wait=True)\n",
    "            if possible_teams:\n",
    "                for team in sorted(possible_teams, key=lambda x: len(x)):\n",
    "                    print(f\"{', '.join(sorted(team))}\")\n",
    "            else:\n",
    "                print(\"No possible teams meet the requirements.\")\n",
    "\n",
    "            self.render_visualization(possible_teams)\n",
    "\n",
    "    def render_visualization(self, possible_teams):\n",
    "        # Calculate necessary data\n",
    "        individual_counts = Counter([member for team in possible_teams for member in team])\n",
    "        team_sizes = [len(team) for team in possible_teams]\n",
    "\n",
    "        # Create Participant Bar Chart\n",
    "        participant_fig = go.Figure()\n",
    "        participant_fig.add_trace(go.Bar(x=list(individual_counts.keys()), y=list(individual_counts.values()), name=\"Participation\"))\n",
    "        participant_fig.update_layout(title_text=\"Participation of Employees in Teams\", height=500, width=600)\n",
    "\n",
    "        # Create Team Size Histogram with controlled x-axis and bar width\n",
    "        team_size_fig = go.Figure()\n",
    "\n",
    "        # Distinguish between single bar or multiple bars\n",
    "        unique_team_sizes = list(set(team_sizes))\n",
    "        if len(unique_team_sizes) == 1:  # Only one team size\n",
    "            # Directly plot a bar for the single team size\n",
    "            single_team_size = unique_team_sizes[0]\n",
    "            team_size_fig.add_trace(go.Bar(x=[single_team_size], y=[team_sizes.count(single_team_size)], width=0.1))\n",
    "            team_size_fig.update_xaxes(type='category')  # Treat x-axis as category\n",
    "        else:\n",
    "            # Histogram for multiple team sizes with controlled bar width\n",
    "            max_team_size = max(team_sizes, default=0)\n",
    "            min_team_size = min(team_sizes, default=0)\n",
    "\n",
    "            # Adjust bin size and offset for thinner bars\n",
    "            bin_size = 0.5\n",
    "            offset = (1 - bin_size) / 2\n",
    "\n",
    "            # Use histogram for team sizes\n",
    "            team_size_fig.add_trace(go.Histogram(\n",
    "                x=team_sizes,\n",
    "                xbins=dict(\n",
    "                    start=min_team_size - offset,\n",
    "                    end=max_team_size + offset,\n",
    "                    size=bin_size\n",
    "                ),\n",
    "                autobinx=False,\n",
    "                marker=dict(line=dict(width=1))\n",
    "            ))\n",
    "\n",
    "            team_size_fig.update_layout(\n",
    "                xaxis=dict(tickmode='array', tickvals=list(range(min_team_size, max_team_size + 1)))\n",
    "            )\n",
    "\n",
    "        team_size_fig.update_layout(title_text=\"Distribution of Team Sizes\", height=300, width=600)\n",
    "\n",
    "        # Show figures\n",
    "        print(\"Team Participation:\")\n",
    "        participant_fig.show()\n",
    "        print(\"Team Size Distribution:\")\n",
    "        team_size_fig.show()\n",
    "\n",
    "# Running the application\n",
    "app = TeamExplorerApp()\n"
   ]
  },
  {
   "cell_type": "markdown",
   "metadata": {},
   "source": [
    "### Create GUI(s) to allow a user to explore alternate constraint scenarios"
   ]
  },
  {
   "cell_type": "code",
   "execution_count": null,
   "metadata": {},
   "outputs": [],
   "source": [
    "class TeamExplorerApp:\n",
    "\n",
    "    def __init__(self):\n",
    "        ctk.set_appearance_mode(\"dark\")  # Set dark mode for the application\n",
    "        self.root = ctk.CTk()\n",
    "        self.root.title(\"Team Constraints Explorer\")\n",
    "        self.root.geometry(\"1200x700\")\n",
    "\n",
    "        self.init_ui_elements()\n",
    "        self.root.mainloop()\n",
    "\n",
    "    def init_ui_elements(self):\n",
    "        # Sliders for skill constraints with dynamic update\n",
    "        self.role_sliders = {}\n",
    "        for i, (role, count) in enumerate(skill_constraints.items(), start=1):\n",
    "            label = ctk.CTkLabel(self.root, text=f\"{role}:\")\n",
    "            label.place(relx=0.05, rely=0.05*i)\n",
    "            slider = ctk.CTkSlider(self.root, from_=0, to=4, number_of_steps=4)\n",
    "            slider.set(count)\n",
    "            slider.place(relx=0.15, rely=0.05*i, relwidth=0.2)\n",
    "            slider.configure(command=lambda value, role=role: self.update_plot())  # Corrected to ignore the slider value\n",
    "            self.role_sliders[role] = slider\n",
    "\n",
    "        # Slider for total people to hire with dynamic update\n",
    "        self.total_people_label = ctk.CTkLabel(self.root, text=\"Total people to hire:\")\n",
    "        self.total_people_label.place(relx=0.05, rely=0.05*(len(skill_constraints)+1))\n",
    "        self.total_people_slider = ctk.CTkSlider(self.root, from_=1, to=8, number_of_steps=7)\n",
    "        self.total_people_slider.place(relx=0.15, rely=0.05*(len(skill_constraints)+1), relwidth=0.2)\n",
    "        self.total_people_slider.configure(command=lambda value: self.update_plot())  # Corrected to ignore the slider value\n",
    "\n",
    "        # Checkboxes for pre-selecting individuals with dynamic update\n",
    "        self.pre_selected_checks = {}\n",
    "        for i, individual in enumerate(employee_skills.keys(), start=0):\n",
    "            var = tk.BooleanVar()\n",
    "            check = ctk.CTkCheckBox(self.root, text=individual, variable=var)\n",
    "            check.place(relx=0.05, rely=0.05*(len(skill_constraints)+2+i))\n",
    "            var.trace('w', lambda *args, individual=individual: self.update_plot())  # Ensure no extra arguments are passed\n",
    "            self.pre_selected_checks[individual] = var\n",
    "\n",
    "        # Output Area\n",
    "        self.output_area = ctk.CTkTextbox(master=self.root, height=200, width=700)\n",
    "        self.output_area.place(relx=0.33, rely=0.55)\n",
    "        \n",
    "    def update_plot(self):\n",
    "            updated_constraints = Counter({role: int(self.role_sliders[role].get()) for role in skill_constraints})\n",
    "            total_people = int(self.total_people_slider.get())\n",
    "            possible_teams = []\n",
    "\n",
    "            pre_selected = {name for name, var in self.pre_selected_checks.items() if var.get()}\n",
    "\n",
    "            for r in range(1, total_people + 1 - len(pre_selected)):\n",
    "                for team in combinations(set(employee_skills.keys()) - pre_selected, r):\n",
    "                    full_team = pre_selected.union(team)\n",
    "                    if meets_requirements(full_team, updated_constraints, employee_skills):\n",
    "                        possible_teams.append(full_team)\n",
    "\n",
    "            self.output_area.delete(1.0, tk.END)\n",
    "            if possible_teams:\n",
    "                for team in sorted(possible_teams, key=lambda x: len(x)):\n",
    "                    self.output_area.insert(tk.END, f\"{', '.join(sorted(team))}\\n\")\n",
    "            else:\n",
    "                self.output_area.insert(tk.END, \"No possible teams meet the requirements.\\n\")\n",
    "\n",
    "            self.update_visualization(possible_teams)\n",
    "            \n",
    "    def update_visualization(self, possible_teams):\n",
    "        if not hasattr(self, \"plot_window\") or not self.plot_window.winfo_exists():\n",
    "            self.plot_window = tk.Toplevel(self.root)\n",
    "            self.plot_window.title(\"Visualizations\")\n",
    "            self.plot_window.configure(bg='#333')\n",
    "\n",
    "        for widget in self.plot_window.winfo_children():\n",
    "            widget.destroy()\n",
    "\n",
    "        individual_counts = Counter([member for team in possible_teams for member in team])\n",
    "        team_sizes = [len(team) for team in possible_teams]\n",
    "        total_teams = len(possible_teams)\n",
    "\n",
    "        fig, axs = plt.subplots(1, 2, figsize=(12, 6))\n",
    "        consistent_color = 'royalblue'\n",
    "\n",
    "        # Bar chart for individual participation\n",
    "        if total_teams > 0:\n",
    "            axs[0].bar(individual_counts.keys(), individual_counts.values(), color=consistent_color)\n",
    "            for ind, val in individual_counts.items():\n",
    "                axs[0].text(ind, val, f'{(val/total_teams)*100:.1f}%', ha='center', va='bottom')\n",
    "\n",
    "            axs[0].set_title('Participation of Employees in Teams')\n",
    "            axs[0].set_xlabel('Employees')\n",
    "            axs[0].set_ylabel('Number of Teams Participated In')\n",
    "            axs[0].yaxis.set_major_locator(MaxNLocator(integer=True))\n",
    "\n",
    "            # Histogram for team size distribution with thinner and separated bars\n",
    "            unique_team_sizes = list(set(team_sizes))\n",
    "            if len(unique_team_sizes) == 1:\n",
    "                single_team_size = unique_team_sizes[0]\n",
    "                axs[1].bar([single_team_size], [team_sizes.count(single_team_size)], color=consistent_color, width=0.1, align='center')\n",
    "                axs[1].set_xticks([single_team_size])\n",
    "            else:\n",
    "                bin_width = 0.9  # smaller value means thinner bars\n",
    "                bin_edges = [x - bin_width/2 for x in range(min(team_sizes), max(team_sizes)+2)]  # calculates bin edges\n",
    "                axs[1].hist(team_sizes, bins=bin_edges, color=consistent_color, align='mid', rwidth=bin_width)\n",
    "                axs[1].set_xticks(range(min(team_sizes), max(team_sizes)+1))\n",
    "\n",
    "            axs[1].set_title('Distribution of Team Sizes')\n",
    "            axs[1].set_xlabel('Team Size')\n",
    "            axs[1].set_ylabel('Number of Teams')\n",
    "        else:\n",
    "            for ax in axs:\n",
    "                ax.text(0.5, 0.5, 'No possible teams', ha='center', va='center', transform=ax.transAxes)\n",
    "                ax.set_xticks([])\n",
    "                ax.set_yticks([])\n",
    "\n",
    "        plt.tight_layout()\n",
    "\n",
    "        # Embedding the plot into the Tkinter window using Canvas\n",
    "        canvas = FigureCanvasTkAgg(fig, master=self.plot_window)\n",
    "        canvas.draw()\n",
    "        canvas.get_tk_widget().pack(fill=tk.BOTH, expand=1)"
   ]
  },
  {
   "cell_type": "code",
   "execution_count": null,
   "metadata": {},
   "outputs": [],
   "source": [
    "# Running the application\n",
    "if __name__ == \"__main__\":\n",
    "    app = TeamExplorerApp()"
   ]
  }
 ],
 "metadata": {
  "kernelspec": {
   "display_name": "Python 3",
   "language": "python",
   "name": "python3"
  },
  "language_info": {
   "codemirror_mode": {
    "name": "ipython",
    "version": 3
   },
   "file_extension": ".py",
   "mimetype": "text/x-python",
   "name": "python",
   "nbconvert_exporter": "python",
   "pygments_lexer": "ipython3",
   "version": "3.8.5"
  }
 },
 "nbformat": 4,
 "nbformat_minor": 4
}
