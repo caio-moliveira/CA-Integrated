{
 "cells": [
  {
   "cell_type": "code",
   "execution_count": 1,
   "metadata": {},
   "outputs": [
    {
     "name": "stdout",
     "output_type": "stream",
     "text": [
      "{'Database': 'Jane', 'Python': 'Bruce', 'Systems': 'Bruce', 'Web': 'Anita', 'AI': 'Anita'}\n",
      "{'Database': 'Jane', 'Python': 'Bruce', 'Systems': 'Bruce', 'Web': 'Juan', 'AI': 'Juan'}\n",
      "{'Database': 'Jane', 'Python': 'Jane', 'Systems': 'Bruce', 'Web': 'Anita', 'AI': 'Anita'}\n",
      "{'Database': 'Jane', 'Python': 'Jane', 'Systems': 'Bruce', 'Web': 'Juan', 'AI': 'Juan'}\n",
      "{'Database': 'Jane', 'Python': 'Jane', 'Systems': 'Mary', 'Web': 'Anita', 'AI': 'Anita'}\n",
      "{'Database': 'Jane', 'Python': 'Jane', 'Systems': 'Mary', 'Web': 'Mary', 'AI': 'Jim'}\n",
      "{'Database': 'Jane', 'Python': 'Jane', 'Systems': 'Mary', 'Web': 'Mary', 'AI': 'Peter'}\n",
      "{'Database': 'Jane', 'Python': 'Jane', 'Systems': 'Mary', 'Web': 'Mary', 'AI': 'Juan'}\n",
      "{'Database': 'Jane', 'Python': 'Jane', 'Systems': 'Mary', 'Web': 'Mary', 'AI': 'Anita'}\n",
      "{'Database': 'Jane', 'Python': 'Jane', 'Systems': 'Mary', 'Web': 'Juan', 'AI': 'Juan'}\n",
      "{'Database': 'Jane', 'Python': 'Jane', 'Systems': 'Jim', 'Web': 'Anita', 'AI': 'Jim'}\n",
      "{'Database': 'Jane', 'Python': 'Jane', 'Systems': 'Jim', 'Web': 'Anita', 'AI': 'Anita'}\n",
      "{'Database': 'Jane', 'Python': 'Jane', 'Systems': 'Jim', 'Web': 'Mary', 'AI': 'Jim'}\n",
      "{'Database': 'Jane', 'Python': 'Jane', 'Systems': 'Jim', 'Web': 'Juan', 'AI': 'Juan'}\n",
      "{'Database': 'Jane', 'Python': 'Jane', 'Systems': 'Jim', 'Web': 'Juan', 'AI': 'Jim'}\n",
      "{'Database': 'Jane', 'Python': 'Peter', 'Systems': 'Mary', 'Web': 'Mary', 'AI': 'Peter'}\n"
     ]
    }
   ],
   "source": [
    "from constraint import Problem\n",
    "\n",
    "\n",
    "\n",
    "\n",
    "\n",
    "\n"
   ]
  },
  {
   "cell_type": "code",
   "execution_count": null,
   "metadata": {},
   "outputs": [],
   "source": [
    "# Initialize the problem\n",
    "problem = Problem()\n",
    "\n",
    "# Candidates and their abilities\n",
    "candidates = {\n",
    "    \"Peter\": [\"Python\", \"AI\"],\n",
    "    \"Juan\": [\"Web\", \"AI\"],\n",
    "    \"Jim\": [\"AI\", \"Systems\"],\n",
    "    \"Jane\": [\"Python\", \"Database\"],\n",
    "    \"Mary\": [\"Web\", \"Systems\"],\n",
    "    \"Bruce\": [\"Systems\", \"Python\"],\n",
    "    \"Anita\": [\"Web\", \"AI\"]\n",
    "}"
   ]
  },
  {
   "cell_type": "code",
   "execution_count": null,
   "metadata": {},
   "outputs": [],
   "source": [
    "# Define the positions\n",
    "positions = {\n",
    "    \"Python\": 1,  # One position left for Python Programmer as Ciara knows Python\n",
    "    \"AI\": 2,  # AI Engineers\n",
    "    \"Web\": 1,  # Web Designer\n",
    "    \"Database\": 1,  # Database Admin\n",
    "    \"Systems\": 1  # Systems Engineer\n",
    "}"
   ]
  },
  {
   "cell_type": "code",
   "execution_count": null,
   "metadata": {},
   "outputs": [],
   "source": [
    "# Add variables (positions) and their domains (candidates)\n",
    "for position, needed in positions.items():\n",
    "    problem.addVariable(position, [name for name, skills in candidates.items() if position in skills])\n"
   ]
  },
  {
   "cell_type": "code",
   "execution_count": null,
   "metadata": {},
   "outputs": [],
   "source": [
    "# Constraint: No person can be hired for more than two positions\n",
    "def hire_constraint(*args):\n",
    "    return len(set(args)) <= 3  # Ciara can hire 3 more people\n",
    "\n",
    "problem.addConstraint(hire_constraint, list(positions.keys()))\n",
    "\n",
    "# Solve the problem\n",
    "solutions = problem.getSolutions()\n",
    "\n",
    "# Print the solutions\n",
    "for solution in solutions:\n",
    "    print(solution)"
   ]
  }
 ],
 "metadata": {
  "kernelspec": {
   "display_name": "Python 3",
   "language": "python",
   "name": "python3"
  },
  "language_info": {
   "codemirror_mode": {
    "name": "ipython",
    "version": 3
   },
   "file_extension": ".py",
   "mimetype": "text/x-python",
   "name": "python",
   "nbconvert_exporter": "python",
   "pygments_lexer": "ipython3",
   "version": "3.8.5"
  }
 },
 "nbformat": 4,
 "nbformat_minor": 4
}
